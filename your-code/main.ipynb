{
 "cells": [
  {
   "cell_type": "markdown",
   "metadata": {},
   "source": [
    "# Probability"
   ]
  },
  {
   "cell_type": "markdown",
   "metadata": {},
   "source": [
    "## Challenge 1\n",
    "There is a box with 10 white balls, 12 red balls and 8 black balls. Calculate the probability of:\n",
    "* Taking a white ball out.\n",
    "* Taking a white ball on first extraction and a black ball out on second extraction without replacing the first one.\n",
    "* Taking a white ball on first extraction and a black ball out on second extraction replacing the first one.\n",
    "* Taking 3 balls and them being all different colours."
   ]
  },
  {
   "cell_type": "code",
   "execution_count": 14,
   "metadata": {},
   "outputs": [
    {
     "name": "stdout",
     "output_type": "stream",
     "text": [
      "0.3333333333333333\n",
      "0.09195402298850575\n",
      "0.08888888888888888\n",
      "0.23645320197044334\n"
     ]
    }
   ],
   "source": [
    "white_ball_count = 10\n",
    "red_ball_count = 12\n",
    "black_ball_count = 8\n",
    "total_ball_count = white_ball_count + red_ball_count + black_ball_count\n",
    "# Taking a white ball out\n",
    "answer_q_1 = white_ball_count / total_ball_count\n",
    "print(answer_q_1)\n",
    "\n",
    "\n",
    "answer_q_2 = answer_q_1 * (black_ball_count / (total_ball_count - 1))\n",
    "print(answer_q_2)\n",
    "\n",
    "\n",
    "answer_q_3 = (white_ball_count / total_ball_count) * (black_ball_count / total_ball_count)\n",
    "print(answer_q_3)\n",
    "\n",
    "answer_q_4 =  6 * (white_ball_count / total_ball_count) * (black_ball_count / (total_ball_count - 1)) * (red_ball_count / (total_ball_count - 2))\n",
    "print(answer_q_4)\n",
    "\n",
    "\n",
    "\n"
   ]
  },
  {
   "cell_type": "markdown",
   "metadata": {},
   "source": [
    "## Challenge 2\n",
    "\n",
    "You want to go on picnic on Saturday. You hate rain, and would know to plan your weekend. To help you make a decision, you gather the following data about rainy days:\n",
    "\n",
    "* 40% of all days are cloudy.\n",
    "* About 50% of cloudy days are rainy. \n",
    "* About 20% of non-cloudy days are rainy.\n",
    "\n",
    "What is the chance of rain during next Saturday?"
   ]
  },
  {
   "cell_type": "code",
   "execution_count": 16,
   "metadata": {},
   "outputs": [
    {
     "name": "stdout",
     "output_type": "stream",
     "text": [
      "0.32\n"
     ]
    }
   ],
   "source": [
    "# YOUR CODE HERE\n",
    "\n",
    "probability_of_a_cloudy_day = 0.4\n",
    "probability_of_a_cloudy_day_being_rainy = 0.5\n",
    "probability_of_a_non_cloudy_day_being_rainy = 0.2\n",
    "\n",
    "\n",
    "answer_chall_2 = (probability_of_a_cloudy_day * probability_of_a_cloudy_day_being_rainy) + ((1.0 - probability_of_a_cloudy_day) * probability_of_a_non_cloudy_day_being_rainy)\n",
    "print(answer_chall_2)\n"
   ]
  },
  {
   "cell_type": "markdown",
   "metadata": {},
   "source": [
    "## Challenge 3\n",
    "\n",
    "A and B are events of a probability such that $P(A) = 0.3$, $P(B) = 0.6$ and $P(A \\cap B) = 0.1$\n",
    "\n",
    "Which of the following statements are true?  \n",
    "**HINT: draw a big Venn Diagram by your side**  \n",
    "* $P(\\overline{A}) = 0.7$\n",
    "* $P(A \\cup B) = 0.6$\n",
    "* $P(A \\cap \\overline{B}) = 0.2$\n",
    "* $P(A \\cup \\overline{A}) = 1$  \n",
    "* $P(A \\cap (B \\cup \\overline{B})) = 0.4$\n",
    "* $P(\\overline{A} \\cap \\overline{B}) = 0.3$\n",
    "* $P(\\overline{A \\cap B}) = 0.9$"
   ]
  },
  {
   "cell_type": "code",
   "execution_count": null,
   "metadata": {},
   "outputs": [
    {
     "name": "stdout",
     "output_type": "stream",
     "text": [
      "1. P(¬A) = 0.7        → True\n",
      "2. P(A ∪ B) = 0.6     → False\n",
      "3. P(A ∩ ¬B) = 0.2    → True\n",
      "4. P(A ∪ ¬A) = 1      → True\n",
      "5. P(A ∩ (B ∪ ¬B))=0.4→ False\n",
      "6. P(¬A ∩ B) = 0.3    → False\n",
      "7. P(¬(A ∩ B)) = 0.9  → True\n"
     ]
    }
   ],
   "source": [
    "import math\n",
    "\n",
    "# Gegeven waarden\n",
    "probability_universe = 1.0\n",
    "probability_of_a = 0.3\n",
    "probability_of_b = 0.6\n",
    "probability_of_intersection = 0.1\n",
    "\n",
    "# Afgeleiden\n",
    "probability_of_not_a = probability_universe - probability_of_a\n",
    "probability_union = probability_of_a + probability_of_b - probability_of_intersection\n",
    "probability_a_and_not_b = probability_of_a - probability_of_intersection\n",
    "probability_not_a_and_b = probability_of_b - probability_of_intersection\n",
    "probability_not_a_and_not_b = probability_universe - probability_union\n",
    "probability_not_intersection = probability_universe - probability_of_intersection\n",
    "\n",
    "print(\"1. P(¬A) = 0.7        →\", math.isclose(probability_of_not_a, 0.7))\n",
    "print(\"2. P(A ∪ B) = 0.6     →\", math.isclose(probability_union, 0.6))  # verwachte waarde = 0.8 → FALSE\n",
    "print(\"3. P(A ∩ ¬B) = 0.2    →\", math.isclose(probability_a_and_not_b, 0.2))\n",
    "print(\"4. P(A ∪ ¬A) = 1      →\", math.isclose(probability_universe, 1))\n",
    "print(\"5. P(A ∩ (B ∪ ¬B))=0.4→\", math.isclose(probability_of_a, 0.4))  # B ∪ ¬B = universe → A ∩ universe = A = 0.3 → FALSE\n",
    "print(\"6. P(¬A ∩ B) = 0.3    →\", math.isclose(probability_not_a_and_b, 0.3))  # verwachte waarde = 0.5 → FALSE\n",
    "print(\"7. P(¬(A ∩ B)) = 0.9  →\", math.isclose(probability_not_intersection, 0.9))\n"
   ]
  },
  {
   "cell_type": "markdown",
   "metadata": {},
   "source": [
    "## Challenge 4\n",
    "\n",
    " * If someone flies to China, the probability of getting Covid is 1%  \n",
    " * If someone flies to Italy, the probability of getting Covid is 20%  \n",
    "\n",
    "I roll 1 dice with numbers 1, 2, 3, 4, 5, 6:  \n",
    " * If 1: I fly to Italy\n",
    " * If not 1: I fly to China\n",
    "\n",
    "During my trip, I got Covid. What is the probability that I flew to China?"
   ]
  },
  {
   "cell_type": "code",
   "execution_count": 43,
   "metadata": {},
   "outputs": [
    {
     "name": "stdout",
     "output_type": "stream",
     "text": [
      "probability_of_going_to_italy: 0.16666666666666666\n",
      "probability_of_going_to_china: 0.8333333333333334\n",
      "total_prop_of_getting_c: 0.041666666666666664\n",
      "result: 0.2\n"
     ]
    }
   ],
   "source": [
    "# YOUR CODE HERE\n",
    "\n",
    "probability_of_going_to_italy = 1 / 6\n",
    "probability_of_going_to_china = 5 / 6\n",
    "print(f\"probability_of_going_to_italy: {probability_of_going_to_italy}\")\n",
    "print(f\"probability_of_going_to_china: {probability_of_going_to_china}\")\n",
    "\n",
    "\n",
    "prob_of_getting_c_in_italy = 0.20\n",
    "prob_of_getting_c_in_china = 0.01\n",
    "\n",
    "total_prop_of_getting_c = (probability_of_going_to_italy * prob_of_getting_c_in_italy) + (probability_of_going_to_china * prob_of_getting_c_in_china)\n",
    "print(f\"total_prop_of_getting_c: {total_prop_of_getting_c}\")\n",
    "\n",
    "print(f\"result: {(probability_of_going_to_china * prob_of_getting_c_in_china) / total_prop_of_getting_c}\")\n",
    "\n",
    "\n",
    "\n",
    "\n"
   ]
  },
  {
   "cell_type": "markdown",
   "metadata": {},
   "source": [
    "## BONUS\n",
    "\n",
    "You roll 2 dice. What is the probability that the sum of the numbers is 7? And 8? And 9? Then simulate 10000 times and draw a countplot."
   ]
  },
  {
   "cell_type": "markdown",
   "metadata": {},
   "source": [
    "your explanation here"
   ]
  },
  {
   "cell_type": "code",
   "execution_count": null,
   "metadata": {},
   "outputs": [
    {
     "data": {
      "image/png": "[encoded data removed]",
      "text/plain": [
       "<Figure size 640x480 with 1 Axes>"
      ]
     },
     "metadata": {},
     "output_type": "display_data"
    }
   ],
   "source": [
    "import random\n",
    "import seaborn as sns\n",
    "import matplotlib.pyplot as plt\n",
    "dice_options = [1, 2, 3, 4, 5, 6]\n",
    "\n",
    "sums = []\n",
    "for roll in range(1000):\n",
    "    total_sum = random.choice(dice_options) + random.choice(dice_options)\n",
    "    sums.append(total_sum) \n",
    "\n",
    "# Plot countplot\n",
    "sns.countplot(x=sums)\n",
    "plt.title(\"Distribution of Dice Sums\")\n",
    "plt.xlabel(\"Sum of Two Dice\")\n",
    "plt.ylabel(\"Frequency\")\n",
    "plt.show()\n",
    "\n"
   ]
  }
 ],
 "metadata": {
  "kernelspec": {
   "display_name": "Python 3",
   "language": "python",
   "name": "python3"
  },
  "language_info": {
   "codemirror_mode": {
    "name": "ipython",
    "version": 3
   },
   "file_extension": ".py",
   "mimetype": "text/x-python",
   "name": "python",
   "nbconvert_exporter": "python",
   "pygments_lexer": "ipython3",
   "version": "3.13.2"
  },
  "toc": {
   "base_numbering": 1,
   "nav_menu": {},
   "number_sections": false,
   "sideBar": true,
   "skip_h1_title": false,
   "title_cell": "Table of Contents",
   "title_sidebar": "Contents",
   "toc_cell": false,
   "toc_position": {
    "height": "calc(100% - 180px)",
    "left": "10px",
    "top": "150px",
    "width": "296.475px"
   },
   "toc_section_display": true,
   "toc_window_display": false
  },
  "varInspector": {
   "cols": {
    "lenName": 16,
    "lenType": 16,
    "lenVar": 40
   },
   "kernels_config": {
    "python": {
     "delete_cmd_postfix": "",
     "delete_cmd_prefix": "del ",
     "library": "var_list.py",
     "varRefreshCmd": "print(var_dic_list())"
    },
    "r": {
     "delete_cmd_postfix": ") ",
     "delete_cmd_prefix": "rm(",
     "library": "var_list.r",
     "varRefreshCmd": "cat(var_dic_list()) "
    }
   },
   "types_to_exclude": [
    "module",
    "function",
    "builtin_function_or_method",
    "instance",
    "_Feature"
   ],
   "window_display": false
  }
 },
 "nbformat": 4,
 "nbformat_minor": 2
}
